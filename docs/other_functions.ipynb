{
 "cells": [
  {
   "cell_type": "markdown",
   "metadata": {},
   "source": [
    "# Outras Funções"
   ]
  },
  {
   "cell_type": "code",
   "execution_count": null,
   "metadata": {},
   "outputs": [],
   "source": [
    "import os\n",
    "\n",
    "filename = '2amostras_de_vigilancia_parametros_basicos_anual_2018.zip'\n",
    "file_propriety = os.path.join(path, \"Dados Originais\", filename)\n",
    "\n",
    "statbuf = os.stat(file_propriety)\n",
    "print(\"Modification time: {}\".format(statbuf.st_mtime))\n",
    "statbuf.st_mtime"
   ]
  },
  {
   "cell_type": "code",
   "execution_count": null,
   "metadata": {},
   "outputs": [],
   "source": [
    "import datetime\n",
    "\n",
    "mtime = statbuf.st_mtime\n",
    "\n",
    "timestamp_str = datetime.datetime.fromtimestamp(mtime).strftime('%Y.%m.%d-%H.%M')\n",
    "print(timestamp_str)"
   ]
  },
  {
   "cell_type": "code",
   "execution_count": null,
   "metadata": {},
   "outputs": [],
   "source": [
    "import requests\n",
    "import datetime\n",
    "from dateutil.parser import parse as parsedate\n",
    "\n",
    "url = urls[0]\n",
    "\n",
    "r = requests.head(url)\n",
    "#url_time = r.headers['last-modified']\n",
    "url_time = parsedate(url_time)\n",
    "print(url_time)\n",
    "\n",
    "file = os.path.join(path, '1controle_mensal_quantitativos_de_analises_anual_2014.zip')\n",
    "file_time = datetime.datetime.fromtimestamp(os.path.getmtime(file))\n",
    "print(file_time)\n",
    "\n",
    "#import pathlib\n",
    "#last_modified = file.stat().st_mtime\n",
    "#if url_date > file_time:\n",
    "#    donwload it !\n",
    "#print(last_modified)"
   ]
  },
  {
   "cell_type": "code",
   "execution_count": null,
   "metadata": {},
   "outputs": [],
   "source": [
    "import hashlib\n",
    "file = os.path.join(path, 'Dados Originais', '2amostras_de_vigilancia_parametros_basicos_anual_2018.zip')\n",
    "file = os.path.join(path, 'Dados Originais', '3analise_alta_complex_anual_2014.zip')\n",
    "\n",
    "def md5_for_file(path, block_size=256*128, hr=False):\n",
    "    '''\n",
    "    Block size directly depends on the block size of your filesystem\n",
    "    to avoid performances issues\n",
    "    Here I have blocks of 4096 octets (Default NTFS)\n",
    "    '''\n",
    "    md5 = hashlib.md5()\n",
    "    with open(path,'rb') as f: \n",
    "        for chunk in iter(lambda: f.read(block_size), b''): \n",
    "             md5.update(chunk)\n",
    "    if hr:\n",
    "        return md5.hexdigest()\n",
    "    return md5.digest()\n",
    "\n",
    "md5_for_file(file)"
   ]
  },
  {
   "cell_type": "code",
   "execution_count": null,
   "metadata": {},
   "outputs": [],
   "source": [
    "from hashlib import md5\n",
    "file = os.path.join(path, 'Dados Originais', '2amostras_de_vigilancia_parametros_basicos_anual_2018.zip')\n",
    "#file = os.path.join(path, 'Dados Originais', '3analise_alta_complex_anual_2014.zip')\n",
    "\n",
    "def get_md5(fname):\n",
    "    m = md5()\n",
    "    with open(fname, 'rb') as fp:\n",
    "        for chunk in fp:\n",
    "            m.update(chunk)\n",
    "    return m.hexdigest()\n",
    "\n",
    "get_md5(file)"
   ]
  }
 ],
 "metadata": {
  "anaconda-cloud": {},
  "kernelspec": {
   "display_name": "Python 3",
   "language": "python",
   "name": "python3"
  },
  "language_info": {
   "codemirror_mode": {
    "name": "ipython",
    "version": 3
   },
   "file_extension": ".py",
   "mimetype": "text/x-python",
   "name": "python",
   "nbconvert_exporter": "python",
   "pygments_lexer": "ipython3",
   "version": "3.6.10"
  },
  "toc": {
   "base_numbering": 1,
   "nav_menu": {
    "height": "605px",
    "width": "460px"
   },
   "number_sections": true,
   "sideBar": true,
   "skip_h1_title": false,
   "title_cell": "Índice",
   "title_sidebar": "Contents",
   "toc_cell": false,
   "toc_position": {
    "height": "calc(100% - 180px)",
    "left": "10px",
    "top": "150px",
    "width": "364px"
   },
   "toc_section_display": true,
   "toc_window_display": true
  }
 },
 "nbformat": 4,
 "nbformat_minor": 1
}
