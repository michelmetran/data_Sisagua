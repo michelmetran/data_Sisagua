{
 "cells": [
  {
   "cell_type": "markdown",
   "metadata": {},
   "source": [
    "# Divisão Adminstrativa"
   ]
  },
  {
   "cell_type": "code",
   "execution_count": 16,
   "metadata": {},
   "outputs": [],
   "source": [
    "import papermill as pm\n",
    "%run '../codes/files/create_folders.py'"
   ]
  },
  {
   "cell_type": "code",
   "execution_count": 17,
   "metadata": {},
   "outputs": [],
   "source": [
    "# Importa bibliotecas\n",
    "import os\n",
    "import pandas as pd\n",
    "import gspread\n",
    "from oauth2client.service_account import ServiceAccountCredentials\n",
    "\n",
    "from df2gspread import df2gspread as d2g\n",
    "from df2gspread import gspread2df as g2d\n",
    "\n",
    "# Escopo Utilizado\n",
    "scope = ['https://spreadsheets.google.com/feeds']\n",
    "\n",
    "# API\n",
    "api_file = 'python-gspread-credentials.json'\n",
    "\n",
    "# Lê a Credencial para Autenticação\n",
    "credentials = ServiceAccountCredentials.from_json_keyfile_name(\n",
    "    os.path.join('..', 'codes/vault', api_file),\n",
    "    scope)\n",
    "\n",
    "# Autenticação, de fato\n",
    "gc = gspread.authorize(credentials)"
   ]
  },
  {
   "cell_type": "code",
   "execution_count": 18,
   "metadata": {},
   "outputs": [
    {
     "data": {
      "text/html": [
       "<div>\n",
       "<style scoped>\n",
       "    .dataframe tbody tr th:only-of-type {\n",
       "        vertical-align: middle;\n",
       "    }\n",
       "\n",
       "    .dataframe tbody tr th {\n",
       "        vertical-align: top;\n",
       "    }\n",
       "\n",
       "    .dataframe thead th {\n",
       "        text-align: right;\n",
       "    }\n",
       "</style>\n",
       "<table border=\"1\" class=\"dataframe\">\n",
       "  <thead>\n",
       "    <tr style=\"text-align: right;\">\n",
       "      <th></th>\n",
       "      <th>ID_Município</th>\n",
       "      <th>Município</th>\n",
       "      <th>GA</th>\n",
       "      <th>AR</th>\n",
       "    </tr>\n",
       "  </thead>\n",
       "  <tbody>\n",
       "    <tr>\n",
       "      <th>43</th>\n",
       "      <td>3503802</td>\n",
       "      <td>Artur Nogueira</td>\n",
       "      <td>Núcleo PCJ-Campinas</td>\n",
       "      <td>Campinas</td>\n",
       "    </tr>\n",
       "    <tr>\n",
       "      <th>108</th>\n",
       "      <td>3509502</td>\n",
       "      <td>Campinas</td>\n",
       "      <td>Núcleo PCJ-Campinas</td>\n",
       "      <td>Campinas</td>\n",
       "    </tr>\n",
       "    <tr>\n",
       "      <th>109</th>\n",
       "      <td>3509601</td>\n",
       "      <td>Campo Limpo Paulista</td>\n",
       "      <td>Núcleo PCJ-Campinas</td>\n",
       "      <td>Grande São Paulo III</td>\n",
       "    </tr>\n",
       "    <tr>\n",
       "      <th>143</th>\n",
       "      <td>3512803</td>\n",
       "      <td>Cosmópolis</td>\n",
       "      <td>Núcleo PCJ-Campinas</td>\n",
       "      <td>Campinas</td>\n",
       "    </tr>\n",
       "    <tr>\n",
       "      <th>165</th>\n",
       "      <td>3514908</td>\n",
       "      <td>Elias Fausto</td>\n",
       "      <td>Núcleo PCJ-Campinas</td>\n",
       "      <td>Campinas</td>\n",
       "    </tr>\n",
       "    <tr>\n",
       "      <th>171</th>\n",
       "      <td>3515152</td>\n",
       "      <td>Engenheiro Coelho</td>\n",
       "      <td>Núcleo PCJ-Campinas</td>\n",
       "      <td>Campinas</td>\n",
       "    </tr>\n",
       "    <tr>\n",
       "      <th>218</th>\n",
       "      <td>3519055</td>\n",
       "      <td>Holambra</td>\n",
       "      <td>Núcleo PCJ-Campinas</td>\n",
       "      <td>Campinas</td>\n",
       "    </tr>\n",
       "    <tr>\n",
       "      <th>219</th>\n",
       "      <td>3519071</td>\n",
       "      <td>Hortolândia</td>\n",
       "      <td>Núcleo PCJ-Campinas</td>\n",
       "      <td>Campinas</td>\n",
       "    </tr>\n",
       "    <tr>\n",
       "      <th>237</th>\n",
       "      <td>3520509</td>\n",
       "      <td>Indaiatuba</td>\n",
       "      <td>Núcleo PCJ-Campinas</td>\n",
       "      <td>Campinas</td>\n",
       "    </tr>\n",
       "    <tr>\n",
       "      <th>269</th>\n",
       "      <td>3523404</td>\n",
       "      <td>Itatiba</td>\n",
       "      <td>Núcleo PCJ-Campinas</td>\n",
       "      <td>Campinas</td>\n",
       "    </tr>\n",
       "    <tr>\n",
       "      <th>275</th>\n",
       "      <td>3524006</td>\n",
       "      <td>Itupeva</td>\n",
       "      <td>Núcleo PCJ-Campinas</td>\n",
       "      <td>Campinas</td>\n",
       "    </tr>\n",
       "    <tr>\n",
       "      <th>282</th>\n",
       "      <td>3524709</td>\n",
       "      <td>Jaguariúna</td>\n",
       "      <td>Núcleo PCJ-Campinas</td>\n",
       "      <td>Campinas</td>\n",
       "    </tr>\n",
       "    <tr>\n",
       "      <th>295</th>\n",
       "      <td>3525904</td>\n",
       "      <td>Jundiaí</td>\n",
       "      <td>Núcleo PCJ-Campinas</td>\n",
       "      <td>Campinas</td>\n",
       "    </tr>\n",
       "    <tr>\n",
       "      <th>310</th>\n",
       "      <td>3527306</td>\n",
       "      <td>Louveira</td>\n",
       "      <td>Núcleo PCJ-Campinas</td>\n",
       "      <td>Campinas</td>\n",
       "    </tr>\n",
       "    <tr>\n",
       "      <th>356</th>\n",
       "      <td>3531803</td>\n",
       "      <td>Monte Mor</td>\n",
       "      <td>Núcleo PCJ-Campinas</td>\n",
       "      <td>Campinas</td>\n",
       "    </tr>\n",
       "    <tr>\n",
       "      <th>359</th>\n",
       "      <td>3532009</td>\n",
       "      <td>Morungaba</td>\n",
       "      <td>Núcleo PCJ-Campinas</td>\n",
       "      <td>Campinas</td>\n",
       "    </tr>\n",
       "    <tr>\n",
       "      <th>378</th>\n",
       "      <td>3533403</td>\n",
       "      <td>Nova Odessa</td>\n",
       "      <td>Núcleo PCJ-Campinas</td>\n",
       "      <td>Campinas</td>\n",
       "    </tr>\n",
       "    <tr>\n",
       "      <th>412</th>\n",
       "      <td>3536505</td>\n",
       "      <td>Paulínia</td>\n",
       "      <td>Núcleo PCJ-Campinas</td>\n",
       "      <td>Campinas</td>\n",
       "    </tr>\n",
       "    <tr>\n",
       "      <th>419</th>\n",
       "      <td>3537107</td>\n",
       "      <td>Pedreira</td>\n",
       "      <td>Núcleo PCJ-Campinas</td>\n",
       "      <td>Campinas</td>\n",
       "    </tr>\n",
       "    <tr>\n",
       "      <th>538</th>\n",
       "      <td>3548005</td>\n",
       "      <td>Santo Antônio de Posse</td>\n",
       "      <td>Núcleo PCJ-Campinas</td>\n",
       "      <td>Campinas</td>\n",
       "    </tr>\n",
       "    <tr>\n",
       "      <th>585</th>\n",
       "      <td>3552403</td>\n",
       "      <td>Sumaré</td>\n",
       "      <td>Núcleo PCJ-Campinas</td>\n",
       "      <td>Campinas</td>\n",
       "    </tr>\n",
       "    <tr>\n",
       "      <th>631</th>\n",
       "      <td>3556206</td>\n",
       "      <td>Valinhos</td>\n",
       "      <td>Núcleo PCJ-Campinas</td>\n",
       "      <td>Campinas</td>\n",
       "    </tr>\n",
       "    <tr>\n",
       "      <th>638</th>\n",
       "      <td>3556701</td>\n",
       "      <td>Vinhedo</td>\n",
       "      <td>Núcleo PCJ-Campinas</td>\n",
       "      <td>Campinas</td>\n",
       "    </tr>\n",
       "    <tr>\n",
       "      <th>636</th>\n",
       "      <td>3556503</td>\n",
       "      <td>Várzea Paulista</td>\n",
       "      <td>Núcleo PCJ-Campinas</td>\n",
       "      <td>Campinas</td>\n",
       "    </tr>\n",
       "    <tr>\n",
       "      <th>18</th>\n",
       "      <td>3501608</td>\n",
       "      <td>Americana</td>\n",
       "      <td>Núcleo PCJ-Piracicaba</td>\n",
       "      <td>Piracicaba</td>\n",
       "    </tr>\n",
       "    <tr>\n",
       "      <th>22</th>\n",
       "      <td>3502002</td>\n",
       "      <td>Analândia</td>\n",
       "      <td>Núcleo PCJ-Piracicaba</td>\n",
       "      <td>Piracicaba</td>\n",
       "    </tr>\n",
       "    <tr>\n",
       "      <th>119</th>\n",
       "      <td>3510401</td>\n",
       "      <td>Capivari</td>\n",
       "      <td>Núcleo PCJ-Piracicaba</td>\n",
       "      <td>Piracicaba</td>\n",
       "    </tr>\n",
       "    <tr>\n",
       "      <th>132</th>\n",
       "      <td>3511706</td>\n",
       "      <td>Charqueada</td>\n",
       "      <td>Núcleo PCJ-Piracicaba</td>\n",
       "      <td>Piracicaba</td>\n",
       "    </tr>\n",
       "    <tr>\n",
       "      <th>139</th>\n",
       "      <td>3512407</td>\n",
       "      <td>Cordeirópolis</td>\n",
       "      <td>Núcleo PCJ-Piracicaba</td>\n",
       "      <td>Piracicaba</td>\n",
       "    </tr>\n",
       "    <tr>\n",
       "      <th>142</th>\n",
       "      <td>3512704</td>\n",
       "      <td>Corumbataí</td>\n",
       "      <td>Núcleo PCJ-Piracicaba</td>\n",
       "      <td>Piracicaba</td>\n",
       "    </tr>\n",
       "    <tr>\n",
       "      <th>243</th>\n",
       "      <td>3521101</td>\n",
       "      <td>Ipeúna</td>\n",
       "      <td>Núcleo PCJ-Piracicaba</td>\n",
       "      <td>Piracicaba</td>\n",
       "    </tr>\n",
       "    <tr>\n",
       "      <th>247</th>\n",
       "      <td>3521408</td>\n",
       "      <td>Iracemápolis</td>\n",
       "      <td>Núcleo PCJ-Piracicaba</td>\n",
       "      <td>Piracicaba</td>\n",
       "    </tr>\n",
       "    <tr>\n",
       "      <th>271</th>\n",
       "      <td>3523602</td>\n",
       "      <td>Itirapina</td>\n",
       "      <td>Núcleo PCJ-Piracicaba</td>\n",
       "      <td>Piracicaba</td>\n",
       "    </tr>\n",
       "    <tr>\n",
       "      <th>305</th>\n",
       "      <td>3526902</td>\n",
       "      <td>Limeira</td>\n",
       "      <td>Núcleo PCJ-Piracicaba</td>\n",
       "      <td>Piracicaba</td>\n",
       "    </tr>\n",
       "    <tr>\n",
       "      <th>348</th>\n",
       "      <td>3530904</td>\n",
       "      <td>Mombuca</td>\n",
       "      <td>Núcleo PCJ-Piracicaba</td>\n",
       "      <td>Piracicaba</td>\n",
       "    </tr>\n",
       "    <tr>\n",
       "      <th>435</th>\n",
       "      <td>3538709</td>\n",
       "      <td>Piracicaba</td>\n",
       "      <td>Núcleo PCJ-Piracicaba</td>\n",
       "      <td>Piracicaba</td>\n",
       "    </tr>\n",
       "    <tr>\n",
       "      <th>474</th>\n",
       "      <td>3542107</td>\n",
       "      <td>Rafard</td>\n",
       "      <td>Núcleo PCJ-Piracicaba</td>\n",
       "      <td>Piracicaba</td>\n",
       "    </tr>\n",
       "    <tr>\n",
       "      <th>493</th>\n",
       "      <td>3543907</td>\n",
       "      <td>Rio Claro</td>\n",
       "      <td>Núcleo PCJ-Piracicaba</td>\n",
       "      <td>Piracicaba</td>\n",
       "    </tr>\n",
       "    <tr>\n",
       "      <th>494</th>\n",
       "      <td>3544004</td>\n",
       "      <td>Rio das Pedras</td>\n",
       "      <td>Núcleo PCJ-Piracicaba</td>\n",
       "      <td>Piracicaba</td>\n",
       "    </tr>\n",
       "    <tr>\n",
       "      <th>508</th>\n",
       "      <td>3545159</td>\n",
       "      <td>Saltinho</td>\n",
       "      <td>Núcleo PCJ-Piracicaba</td>\n",
       "      <td>Piracicaba</td>\n",
       "    </tr>\n",
       "    <tr>\n",
       "      <th>515</th>\n",
       "      <td>3545803</td>\n",
       "      <td>Santa Bárbara D'Oeste</td>\n",
       "      <td>Núcleo PCJ-Piracicaba</td>\n",
       "      <td>Piracicaba</td>\n",
       "    </tr>\n",
       "    <tr>\n",
       "      <th>524</th>\n",
       "      <td>3546702</td>\n",
       "      <td>Santa Gertrudes</td>\n",
       "      <td>Núcleo PCJ-Piracicaba</td>\n",
       "      <td>Piracicaba</td>\n",
       "    </tr>\n",
       "    <tr>\n",
       "      <th>527</th>\n",
       "      <td>3547007</td>\n",
       "      <td>Santa Maria da Serra</td>\n",
       "      <td>Núcleo PCJ-Piracicaba</td>\n",
       "      <td>Piracicaba</td>\n",
       "    </tr>\n",
       "    <tr>\n",
       "      <th>565</th>\n",
       "      <td>3550407</td>\n",
       "      <td>São Pedro</td>\n",
       "      <td>Núcleo PCJ-Piracicaba</td>\n",
       "      <td>Piracicaba</td>\n",
       "    </tr>\n",
       "    <tr>\n",
       "      <th>6</th>\n",
       "      <td>3500600</td>\n",
       "      <td>Águas de São Pedro</td>\n",
       "      <td>Núcleo PCJ-Piracicaba</td>\n",
       "      <td>Piracicaba</td>\n",
       "    </tr>\n",
       "  </tbody>\n",
       "</table>\n",
       "</div>"
      ],
      "text/plain": [
       "     ID_Município               Município                     GA  \\\n",
       "43        3503802          Artur Nogueira    Núcleo PCJ-Campinas   \n",
       "108       3509502                Campinas    Núcleo PCJ-Campinas   \n",
       "109       3509601    Campo Limpo Paulista    Núcleo PCJ-Campinas   \n",
       "143       3512803              Cosmópolis    Núcleo PCJ-Campinas   \n",
       "165       3514908            Elias Fausto    Núcleo PCJ-Campinas   \n",
       "171       3515152       Engenheiro Coelho    Núcleo PCJ-Campinas   \n",
       "218       3519055                Holambra    Núcleo PCJ-Campinas   \n",
       "219       3519071             Hortolândia    Núcleo PCJ-Campinas   \n",
       "237       3520509              Indaiatuba    Núcleo PCJ-Campinas   \n",
       "269       3523404                 Itatiba    Núcleo PCJ-Campinas   \n",
       "275       3524006                 Itupeva    Núcleo PCJ-Campinas   \n",
       "282       3524709              Jaguariúna    Núcleo PCJ-Campinas   \n",
       "295       3525904                 Jundiaí    Núcleo PCJ-Campinas   \n",
       "310       3527306                Louveira    Núcleo PCJ-Campinas   \n",
       "356       3531803               Monte Mor    Núcleo PCJ-Campinas   \n",
       "359       3532009               Morungaba    Núcleo PCJ-Campinas   \n",
       "378       3533403             Nova Odessa    Núcleo PCJ-Campinas   \n",
       "412       3536505                Paulínia    Núcleo PCJ-Campinas   \n",
       "419       3537107                Pedreira    Núcleo PCJ-Campinas   \n",
       "538       3548005  Santo Antônio de Posse    Núcleo PCJ-Campinas   \n",
       "585       3552403                  Sumaré    Núcleo PCJ-Campinas   \n",
       "631       3556206                Valinhos    Núcleo PCJ-Campinas   \n",
       "638       3556701                 Vinhedo    Núcleo PCJ-Campinas   \n",
       "636       3556503         Várzea Paulista    Núcleo PCJ-Campinas   \n",
       "18        3501608               Americana  Núcleo PCJ-Piracicaba   \n",
       "22        3502002               Analândia  Núcleo PCJ-Piracicaba   \n",
       "119       3510401                Capivari  Núcleo PCJ-Piracicaba   \n",
       "132       3511706              Charqueada  Núcleo PCJ-Piracicaba   \n",
       "139       3512407           Cordeirópolis  Núcleo PCJ-Piracicaba   \n",
       "142       3512704              Corumbataí  Núcleo PCJ-Piracicaba   \n",
       "243       3521101                  Ipeúna  Núcleo PCJ-Piracicaba   \n",
       "247       3521408            Iracemápolis  Núcleo PCJ-Piracicaba   \n",
       "271       3523602               Itirapina  Núcleo PCJ-Piracicaba   \n",
       "305       3526902                 Limeira  Núcleo PCJ-Piracicaba   \n",
       "348       3530904                 Mombuca  Núcleo PCJ-Piracicaba   \n",
       "435       3538709              Piracicaba  Núcleo PCJ-Piracicaba   \n",
       "474       3542107                  Rafard  Núcleo PCJ-Piracicaba   \n",
       "493       3543907               Rio Claro  Núcleo PCJ-Piracicaba   \n",
       "494       3544004          Rio das Pedras  Núcleo PCJ-Piracicaba   \n",
       "508       3545159                Saltinho  Núcleo PCJ-Piracicaba   \n",
       "515       3545803   Santa Bárbara D'Oeste  Núcleo PCJ-Piracicaba   \n",
       "524       3546702         Santa Gertrudes  Núcleo PCJ-Piracicaba   \n",
       "527       3547007    Santa Maria da Serra  Núcleo PCJ-Piracicaba   \n",
       "565       3550407               São Pedro  Núcleo PCJ-Piracicaba   \n",
       "6         3500600      Águas de São Pedro  Núcleo PCJ-Piracicaba   \n",
       "\n",
       "                       AR  \n",
       "43               Campinas  \n",
       "108              Campinas  \n",
       "109  Grande São Paulo III  \n",
       "143              Campinas  \n",
       "165              Campinas  \n",
       "171              Campinas  \n",
       "218              Campinas  \n",
       "219              Campinas  \n",
       "237              Campinas  \n",
       "269              Campinas  \n",
       "275              Campinas  \n",
       "282              Campinas  \n",
       "295              Campinas  \n",
       "310              Campinas  \n",
       "356              Campinas  \n",
       "359              Campinas  \n",
       "378              Campinas  \n",
       "412              Campinas  \n",
       "419              Campinas  \n",
       "538              Campinas  \n",
       "585              Campinas  \n",
       "631              Campinas  \n",
       "638              Campinas  \n",
       "636              Campinas  \n",
       "18             Piracicaba  \n",
       "22             Piracicaba  \n",
       "119            Piracicaba  \n",
       "132            Piracicaba  \n",
       "139            Piracicaba  \n",
       "142            Piracicaba  \n",
       "243            Piracicaba  \n",
       "247            Piracicaba  \n",
       "271            Piracicaba  \n",
       "305            Piracicaba  \n",
       "348            Piracicaba  \n",
       "435            Piracicaba  \n",
       "474            Piracicaba  \n",
       "493            Piracicaba  \n",
       "494            Piracicaba  \n",
       "508            Piracicaba  \n",
       "515            Piracicaba  \n",
       "524            Piracicaba  \n",
       "527            Piracicaba  \n",
       "565            Piracicaba  \n",
       "6              Piracicaba  "
      ]
     },
     "metadata": {},
     "output_type": "display_data"
    }
   ],
   "source": [
    "df = g2d.download(gfile='14dOuDXUvMCQWFyX4KedzwN3zUM3ihbf9uin5Rut0GzE',\n",
    "                  wks_name='tab_MPSP',\n",
    "                  start_cell='A1',\n",
    "                  credentials=credentials,col_names=True,\n",
    "                  row_names=False)\n",
    "\n",
    "# Organiza a tabela, filtra, seleciona\n",
    "df = df[['ID_Município','Município', 'GA', 'AR']]\n",
    "df['ID_Município'] = pd.to_numeric(df['ID_Município'])\n",
    "df = df[(df['GA']=='Núcleo PCJ-Piracicaba') | (df['GA']=='Núcleo PCJ-Campinas')]\n",
    "df = df.sort_values(by =['GA', 'Município'])\n",
    "\n",
    "display(df)"
   ]
  },
  {
   "cell_type": "code",
   "execution_count": 25,
   "metadata": {},
   "outputs": [],
   "source": [
    "ID_Município = df['ID_Município'].tolist()\n",
    "ID_Município7d = df['ID_Município'].tolist()\n",
    "ID_Município6d = [int(str(i)[0:6]) for i in ID_Município]"
   ]
  },
  {
   "cell_type": "code",
   "execution_count": 26,
   "metadata": {},
   "outputs": [
    {
     "name": "stdout",
     "output_type": "stream",
     "text": [
      "Artur Nogueira\n",
      "Directory \"data/Núcleo PCJ-Campinas\" already exists...\n",
      "Directory \"data/Núcleo PCJ-Campinas/Artur Nogueira\" already exists...\n",
      "Campinas\n",
      "Directory \"data/Núcleo PCJ-Campinas\" already exists...\n",
      "Directory \"data/Núcleo PCJ-Campinas/Campinas\" already exists...\n",
      "Campo Limpo Paulista\n",
      "Directory \"data/Núcleo PCJ-Campinas\" already exists...\n",
      "Directory \"data/Núcleo PCJ-Campinas/Campo Limpo Paulista\" already exists...\n",
      "Cosmópolis\n",
      "Directory \"data/Núcleo PCJ-Campinas\" already exists...\n",
      "Directory \"data/Núcleo PCJ-Campinas/Cosmópolis\" already exists...\n",
      "Elias Fausto\n",
      "Directory \"data/Núcleo PCJ-Campinas\" already exists...\n",
      "Directory \"data/Núcleo PCJ-Campinas/Elias Fausto\" already exists...\n",
      "Engenheiro Coelho\n",
      "Directory \"data/Núcleo PCJ-Campinas\" already exists...\n",
      "Directory \"data/Núcleo PCJ-Campinas/Engenheiro Coelho\" already exists...\n",
      "Holambra\n",
      "Directory \"data/Núcleo PCJ-Campinas\" already exists...\n",
      "Directory \"data/Núcleo PCJ-Campinas/Holambra\" already exists...\n",
      "Hortolândia\n",
      "Directory \"data/Núcleo PCJ-Campinas\" already exists...\n",
      "Directory \"data/Núcleo PCJ-Campinas/Hortolândia\" already exists...\n",
      "Indaiatuba\n",
      "Directory \"data/Núcleo PCJ-Campinas\" already exists...\n",
      "Directory \"data/Núcleo PCJ-Campinas/Indaiatuba\" already exists...\n",
      "Itatiba\n",
      "Directory \"data/Núcleo PCJ-Campinas\" already exists...\n",
      "Directory \"data/Núcleo PCJ-Campinas/Itatiba\" already exists...\n",
      "Itupeva\n",
      "Directory \"data/Núcleo PCJ-Campinas\" already exists...\n",
      "Directory \"data/Núcleo PCJ-Campinas/Itupeva\" already exists...\n",
      "Jaguariúna\n",
      "Directory \"data/Núcleo PCJ-Campinas\" already exists...\n",
      "Directory \"data/Núcleo PCJ-Campinas/Jaguariúna\" already exists...\n",
      "Jundiaí\n",
      "Directory \"data/Núcleo PCJ-Campinas\" already exists...\n",
      "Directory \"data/Núcleo PCJ-Campinas/Jundiaí\" already exists...\n",
      "Louveira\n",
      "Directory \"data/Núcleo PCJ-Campinas\" already exists...\n",
      "Directory \"data/Núcleo PCJ-Campinas/Louveira\" already exists...\n",
      "Monte Mor\n",
      "Directory \"data/Núcleo PCJ-Campinas\" already exists...\n",
      "Directory \"data/Núcleo PCJ-Campinas/Monte Mor\" already exists...\n",
      "Morungaba\n",
      "Directory \"data/Núcleo PCJ-Campinas\" already exists...\n",
      "Directory \"data/Núcleo PCJ-Campinas/Morungaba\" already exists...\n",
      "Nova Odessa\n",
      "Directory \"data/Núcleo PCJ-Campinas\" already exists...\n",
      "Directory \"data/Núcleo PCJ-Campinas/Nova Odessa\" already exists...\n",
      "Paulínia\n",
      "Directory \"data/Núcleo PCJ-Campinas\" already exists...\n",
      "Directory \"data/Núcleo PCJ-Campinas/Paulínia\" already exists...\n",
      "Pedreira\n",
      "Directory \"data/Núcleo PCJ-Campinas\" already exists...\n",
      "Directory \"data/Núcleo PCJ-Campinas/Pedreira\" already exists...\n",
      "Santo Antônio de Posse\n",
      "Directory \"data/Núcleo PCJ-Campinas\" already exists...\n",
      "Directory \"data/Núcleo PCJ-Campinas/Santo Antônio de Posse\" already exists...\n",
      "Sumaré\n",
      "Directory \"data/Núcleo PCJ-Campinas\" already exists...\n",
      "Directory \"data/Núcleo PCJ-Campinas/Sumaré\" already exists...\n",
      "Valinhos\n",
      "Directory \"data/Núcleo PCJ-Campinas\" already exists...\n",
      "Directory \"data/Núcleo PCJ-Campinas/Valinhos\" already exists...\n",
      "Vinhedo\n",
      "Directory \"data/Núcleo PCJ-Campinas\" already exists...\n",
      "Directory \"data/Núcleo PCJ-Campinas/Vinhedo\" already exists...\n",
      "Várzea Paulista\n",
      "Directory \"data/Núcleo PCJ-Campinas\" already exists...\n",
      "Directory \"data/Núcleo PCJ-Campinas/Várzea Paulista\" already exists...\n",
      "Americana\n",
      "Directory \"data/Núcleo PCJ-Piracicaba\" already exists...\n",
      "Directory \"data/Núcleo PCJ-Piracicaba/Americana\" already exists...\n",
      "Analândia\n",
      "Directory \"data/Núcleo PCJ-Piracicaba\" already exists...\n",
      "Directory \"data/Núcleo PCJ-Piracicaba/Analândia\" already exists...\n",
      "Capivari\n",
      "Directory \"data/Núcleo PCJ-Piracicaba\" already exists...\n",
      "Directory \"data/Núcleo PCJ-Piracicaba/Capivari\" already exists...\n",
      "Charqueada\n",
      "Directory \"data/Núcleo PCJ-Piracicaba\" already exists...\n",
      "Directory \"data/Núcleo PCJ-Piracicaba/Charqueada\" already exists...\n",
      "Cordeirópolis\n",
      "Directory \"data/Núcleo PCJ-Piracicaba\" already exists...\n",
      "Directory \"data/Núcleo PCJ-Piracicaba/Cordeirópolis\" already exists...\n",
      "Corumbataí\n",
      "Directory \"data/Núcleo PCJ-Piracicaba\" already exists...\n",
      "Directory \"data/Núcleo PCJ-Piracicaba/Corumbataí\" already exists...\n",
      "Ipeúna\n",
      "Directory \"data/Núcleo PCJ-Piracicaba\" already exists...\n",
      "Directory \"data/Núcleo PCJ-Piracicaba/Ipeúna\" already exists...\n",
      "Iracemápolis\n",
      "Directory \"data/Núcleo PCJ-Piracicaba\" already exists...\n",
      "Directory \"data/Núcleo PCJ-Piracicaba/Iracemápolis\" already exists...\n",
      "Itirapina\n",
      "Directory \"data/Núcleo PCJ-Piracicaba\" already exists...\n",
      "Directory \"data/Núcleo PCJ-Piracicaba/Itirapina\" already exists...\n",
      "Limeira\n",
      "Directory \"data/Núcleo PCJ-Piracicaba\" already exists...\n",
      "Directory \"data/Núcleo PCJ-Piracicaba/Limeira\" already exists...\n",
      "Mombuca\n",
      "Directory \"data/Núcleo PCJ-Piracicaba\" already exists...\n",
      "Directory \"data/Núcleo PCJ-Piracicaba/Mombuca\" already exists...\n",
      "Piracicaba\n",
      "Directory \"data/Núcleo PCJ-Piracicaba\" already exists...\n",
      "Directory \"data/Núcleo PCJ-Piracicaba/Piracicaba\" already exists...\n",
      "Rafard\n",
      "Directory \"data/Núcleo PCJ-Piracicaba\" already exists...\n",
      "Directory \"data/Núcleo PCJ-Piracicaba/Rafard\" already exists...\n",
      "Rio Claro\n",
      "Directory \"data/Núcleo PCJ-Piracicaba\" already exists...\n",
      "Directory \"data/Núcleo PCJ-Piracicaba/Rio Claro\" already exists...\n",
      "Rio das Pedras\n",
      "Directory \"data/Núcleo PCJ-Piracicaba\" already exists...\n",
      "Directory \"data/Núcleo PCJ-Piracicaba/Rio das Pedras\" already exists...\n",
      "Saltinho\n",
      "Directory \"data/Núcleo PCJ-Piracicaba\" already exists...\n",
      "Directory \"data/Núcleo PCJ-Piracicaba/Saltinho\" already exists...\n",
      "Santa Bárbara D'Oeste\n",
      "Directory \"data/Núcleo PCJ-Piracicaba\" already exists...\n",
      "Directory \"data/Núcleo PCJ-Piracicaba/Santa Bárbara D'Oeste\" already exists...\n",
      "Santa Gertrudes\n",
      "Directory \"data/Núcleo PCJ-Piracicaba\" already exists...\n",
      "Directory \"data/Núcleo PCJ-Piracicaba/Santa Gertrudes\" already exists...\n",
      "Santa Maria da Serra\n",
      "Directory \"data/Núcleo PCJ-Piracicaba\" already exists...\n",
      "Directory \"data/Núcleo PCJ-Piracicaba/Santa Maria da Serra\" already exists...\n",
      "São Pedro\n",
      "Directory \"data/Núcleo PCJ-Piracicaba\" already exists...\n",
      "Directory \"data/Núcleo PCJ-Piracicaba/São Pedro\" already exists...\n",
      "Águas de São Pedro\n",
      "Directory \"data/Núcleo PCJ-Piracicaba\" already exists...\n",
      "Directory \"data/Núcleo PCJ-Piracicaba/Águas de São Pedro\" already exists...\n"
     ]
    }
   ],
   "source": [
    "for index, row in df.iterrows():\n",
    "    # Define Variáveis\n",
    "    id_mun = row['ID_Município']\n",
    "    gaema = row['GA']\n",
    "    mun = row['Município']\n",
    "    mun_clean = row['Município'].replace(' ','').replace(\"D'\",\"D\")\n",
    "    print(mun)\n",
    "    \n",
    "    # Cria pastas\n",
    "    create_folders('', ['data/' + gaema, 'data/' + gaema + '/' + mun])"
   ]
  },
  {
   "cell_type": "markdown",
   "metadata": {},
   "source": [
    "# *Papermill* em ação\n",
    "\n",
    "Papermill serve para rodar um *script* de *Jupyter Notebook* diversas vezes, ajustando apenas um parâmetro."
   ]
  },
  {
   "cell_type": "code",
   "execution_count": 28,
   "metadata": {},
   "outputs": [
    {
     "name": "stdout",
     "output_type": "stream",
     "text": [
      "Artur Nogueira\n"
     ]
    },
    {
     "data": {
      "application/vnd.jupyter.widget-view+json": {
       "model_id": "4b647c98b171483da4292e31f6dd1bf4",
       "version_major": 2,
       "version_minor": 0
      },
      "text/plain": [
       "HBox(children=(FloatProgress(value=0.0, description='Executing', max=105.0, style=ProgressStyle(description_wi…"
      ]
     },
     "metadata": {},
     "output_type": "display_data"
    },
    {
     "name": "stdout",
     "output_type": "stream",
     "text": [
      "\n",
      "Campinas\n"
     ]
    },
    {
     "data": {
      "application/vnd.jupyter.widget-view+json": {
       "model_id": "70888ceff1c848d49671e94c57b01317",
       "version_major": 2,
       "version_minor": 0
      },
      "text/plain": [
       "HBox(children=(FloatProgress(value=0.0, description='Executing', max=105.0, style=ProgressStyle(description_wi…"
      ]
     },
     "metadata": {},
     "output_type": "display_data"
    },
    {
     "name": "stdout",
     "output_type": "stream",
     "text": [
      "\n",
      "Campo Limpo Paulista\n"
     ]
    },
    {
     "data": {
      "application/vnd.jupyter.widget-view+json": {
       "model_id": "b3ee093351e143aa83251c34b1b94f36",
       "version_major": 2,
       "version_minor": 0
      },
      "text/plain": [
       "HBox(children=(FloatProgress(value=0.0, description='Executing', max=105.0, style=ProgressStyle(description_wi…"
      ]
     },
     "metadata": {},
     "output_type": "display_data"
    },
    {
     "name": "stdout",
     "output_type": "stream",
     "text": [
      "\n",
      "Cosmópolis\n"
     ]
    },
    {
     "data": {
      "application/vnd.jupyter.widget-view+json": {
       "model_id": "09b1ca6693a941588aa501a7fc21e5af",
       "version_major": 2,
       "version_minor": 0
      },
      "text/plain": [
       "HBox(children=(FloatProgress(value=0.0, description='Executing', max=104.0, style=ProgressStyle(description_wi…"
      ]
     },
     "metadata": {},
     "output_type": "display_data"
    },
    {
     "name": "stdout",
     "output_type": "stream",
     "text": [
      "\n",
      "Elias Fausto\n"
     ]
    },
    {
     "data": {
      "application/vnd.jupyter.widget-view+json": {
       "model_id": "fcc274228b5144cc95d8be1997e50c36",
       "version_major": 2,
       "version_minor": 0
      },
      "text/plain": [
       "HBox(children=(FloatProgress(value=0.0, description='Executing', max=104.0, style=ProgressStyle(description_wi…"
      ]
     },
     "metadata": {},
     "output_type": "display_data"
    },
    {
     "name": "stdout",
     "output_type": "stream",
     "text": [
      "\n",
      "Engenheiro Coelho\n"
     ]
    },
    {
     "data": {
      "application/vnd.jupyter.widget-view+json": {
       "model_id": "182997ab56d440c8a4e6267cfa73daac",
       "version_major": 2,
       "version_minor": 0
      },
      "text/plain": [
       "HBox(children=(FloatProgress(value=0.0, description='Executing', max=104.0, style=ProgressStyle(description_wi…"
      ]
     },
     "metadata": {},
     "output_type": "display_data"
    },
    {
     "name": "stdout",
     "output_type": "stream",
     "text": [
      "\n",
      "Holambra\n"
     ]
    },
    {
     "data": {
      "application/vnd.jupyter.widget-view+json": {
       "model_id": "9e29465d8710434ba7bbf9efe34106a2",
       "version_major": 2,
       "version_minor": 0
      },
      "text/plain": [
       "HBox(children=(FloatProgress(value=0.0, description='Executing', max=104.0, style=ProgressStyle(description_wi…"
      ]
     },
     "metadata": {},
     "output_type": "display_data"
    },
    {
     "name": "stdout",
     "output_type": "stream",
     "text": [
      "\n",
      "Hortolândia\n"
     ]
    },
    {
     "data": {
      "application/vnd.jupyter.widget-view+json": {
       "model_id": "c3b599cef0f14d66a6ebcae52c254892",
       "version_major": 2,
       "version_minor": 0
      },
      "text/plain": [
       "HBox(children=(FloatProgress(value=0.0, description='Executing', max=104.0, style=ProgressStyle(description_wi…"
      ]
     },
     "metadata": {},
     "output_type": "display_data"
    },
    {
     "name": "stdout",
     "output_type": "stream",
     "text": [
      "\n",
      "Indaiatuba\n"
     ]
    },
    {
     "data": {
      "application/vnd.jupyter.widget-view+json": {
       "model_id": "1a4fabca319c49f89cc7a3515a1249b8",
       "version_major": 2,
       "version_minor": 0
      },
      "text/plain": [
       "HBox(children=(FloatProgress(value=0.0, description='Executing', max=104.0, style=ProgressStyle(description_wi…"
      ]
     },
     "metadata": {},
     "output_type": "display_data"
    },
    {
     "name": "stdout",
     "output_type": "stream",
     "text": [
      "\n",
      "Itatiba\n"
     ]
    },
    {
     "data": {
      "application/vnd.jupyter.widget-view+json": {
       "model_id": "8fd616bab38a43b7a79f5bb8c2ce0faa",
       "version_major": 2,
       "version_minor": 0
      },
      "text/plain": [
       "HBox(children=(FloatProgress(value=0.0, description='Executing', max=104.0, style=ProgressStyle(description_wi…"
      ]
     },
     "metadata": {},
     "output_type": "display_data"
    },
    {
     "name": "stdout",
     "output_type": "stream",
     "text": [
      "\n",
      "Itupeva\n"
     ]
    },
    {
     "data": {
      "application/vnd.jupyter.widget-view+json": {
       "model_id": "be989b7f61544e83b3c51768d5965727",
       "version_major": 2,
       "version_minor": 0
      },
      "text/plain": [
       "HBox(children=(FloatProgress(value=0.0, description='Executing', max=104.0, style=ProgressStyle(description_wi…"
      ]
     },
     "metadata": {},
     "output_type": "display_data"
    },
    {
     "name": "stdout",
     "output_type": "stream",
     "text": [
      "\n",
      "Jaguariúna\n"
     ]
    },
    {
     "data": {
      "application/vnd.jupyter.widget-view+json": {
       "model_id": "0a6dfe1c06a84c0581cc30fb86d47a3f",
       "version_major": 2,
       "version_minor": 0
      },
      "text/plain": [
       "HBox(children=(FloatProgress(value=0.0, description='Executing', max=104.0, style=ProgressStyle(description_wi…"
      ]
     },
     "metadata": {},
     "output_type": "display_data"
    },
    {
     "name": "stdout",
     "output_type": "stream",
     "text": [
      "\n",
      "Jundiaí\n"
     ]
    },
    {
     "data": {
      "application/vnd.jupyter.widget-view+json": {
       "model_id": "95ea01de60964268bccdc169a39b5b5c",
       "version_major": 2,
       "version_minor": 0
      },
      "text/plain": [
       "HBox(children=(FloatProgress(value=0.0, description='Executing', max=104.0, style=ProgressStyle(description_wi…"
      ]
     },
     "metadata": {},
     "output_type": "display_data"
    },
    {
     "name": "stdout",
     "output_type": "stream",
     "text": [
      "\n",
      "Louveira\n"
     ]
    },
    {
     "data": {
      "application/vnd.jupyter.widget-view+json": {
       "model_id": "3cee0df8a5cd49b99a228d29d735de3a",
       "version_major": 2,
       "version_minor": 0
      },
      "text/plain": [
       "HBox(children=(FloatProgress(value=0.0, description='Executing', max=104.0, style=ProgressStyle(description_wi…"
      ]
     },
     "metadata": {},
     "output_type": "display_data"
    },
    {
     "name": "stdout",
     "output_type": "stream",
     "text": [
      "\n",
      "Monte Mor\n"
     ]
    },
    {
     "data": {
      "application/vnd.jupyter.widget-view+json": {
       "model_id": "a9d7754cf75340d3a249581acfb3bf9f",
       "version_major": 2,
       "version_minor": 0
      },
      "text/plain": [
       "HBox(children=(FloatProgress(value=0.0, description='Executing', max=104.0, style=ProgressStyle(description_wi…"
      ]
     },
     "metadata": {},
     "output_type": "display_data"
    },
    {
     "name": "stdout",
     "output_type": "stream",
     "text": [
      "\n",
      "Morungaba\n"
     ]
    },
    {
     "data": {
      "application/vnd.jupyter.widget-view+json": {
       "model_id": "147c1fc051c4441483fa671678e223fc",
       "version_major": 2,
       "version_minor": 0
      },
      "text/plain": [
       "HBox(children=(FloatProgress(value=0.0, description='Executing', max=104.0, style=ProgressStyle(description_wi…"
      ]
     },
     "metadata": {},
     "output_type": "display_data"
    },
    {
     "name": "stdout",
     "output_type": "stream",
     "text": [
      "\n",
      "Nova Odessa\n"
     ]
    },
    {
     "data": {
      "application/vnd.jupyter.widget-view+json": {
       "model_id": "5fde96284f3c42e48b676ff832b76b50",
       "version_major": 2,
       "version_minor": 0
      },
      "text/plain": [
       "HBox(children=(FloatProgress(value=0.0, description='Executing', max=104.0, style=ProgressStyle(description_wi…"
      ]
     },
     "metadata": {},
     "output_type": "display_data"
    },
    {
     "name": "stdout",
     "output_type": "stream",
     "text": [
      "\n",
      "Paulínia\n"
     ]
    },
    {
     "data": {
      "application/vnd.jupyter.widget-view+json": {
       "model_id": "c0b43fc52d084d32be327f1e02ea94b5",
       "version_major": 2,
       "version_minor": 0
      },
      "text/plain": [
       "HBox(children=(FloatProgress(value=0.0, description='Executing', max=104.0, style=ProgressStyle(description_wi…"
      ]
     },
     "metadata": {},
     "output_type": "display_data"
    },
    {
     "name": "stdout",
     "output_type": "stream",
     "text": [
      "\n",
      "Pedreira\n"
     ]
    },
    {
     "data": {
      "application/vnd.jupyter.widget-view+json": {
       "model_id": "77a0e3a093d343d8b8d7f116b4c5f680",
       "version_major": 2,
       "version_minor": 0
      },
      "text/plain": [
       "HBox(children=(FloatProgress(value=0.0, description='Executing', max=104.0, style=ProgressStyle(description_wi…"
      ]
     },
     "metadata": {},
     "output_type": "display_data"
    },
    {
     "name": "stdout",
     "output_type": "stream",
     "text": [
      "\n",
      "Santo Antônio de Posse\n"
     ]
    },
    {
     "data": {
      "application/vnd.jupyter.widget-view+json": {
       "model_id": "0655ed2b19ae4eb19cc4401740ceca23",
       "version_major": 2,
       "version_minor": 0
      },
      "text/plain": [
       "HBox(children=(FloatProgress(value=0.0, description='Executing', max=104.0, style=ProgressStyle(description_wi…"
      ]
     },
     "metadata": {},
     "output_type": "display_data"
    },
    {
     "name": "stdout",
     "output_type": "stream",
     "text": [
      "\n",
      "Sumaré\n"
     ]
    },
    {
     "data": {
      "application/vnd.jupyter.widget-view+json": {
       "model_id": "62480d6bcd4d46f1a31bbb798b7718bc",
       "version_major": 2,
       "version_minor": 0
      },
      "text/plain": [
       "HBox(children=(FloatProgress(value=0.0, description='Executing', max=104.0, style=ProgressStyle(description_wi…"
      ]
     },
     "metadata": {},
     "output_type": "display_data"
    },
    {
     "name": "stdout",
     "output_type": "stream",
     "text": [
      "\n",
      "Valinhos\n"
     ]
    },
    {
     "data": {
      "application/vnd.jupyter.widget-view+json": {
       "model_id": "85f2c3dfa7084a42ac409f2521546fb2",
       "version_major": 2,
       "version_minor": 0
      },
      "text/plain": [
       "HBox(children=(FloatProgress(value=0.0, description='Executing', max=104.0, style=ProgressStyle(description_wi…"
      ]
     },
     "metadata": {},
     "output_type": "display_data"
    },
    {
     "name": "stdout",
     "output_type": "stream",
     "text": [
      "\n",
      "Vinhedo\n"
     ]
    },
    {
     "data": {
      "application/vnd.jupyter.widget-view+json": {
       "model_id": "0d117a52a6ff4c84846d78390733109d",
       "version_major": 2,
       "version_minor": 0
      },
      "text/plain": [
       "HBox(children=(FloatProgress(value=0.0, description='Executing', max=104.0, style=ProgressStyle(description_wi…"
      ]
     },
     "metadata": {},
     "output_type": "display_data"
    },
    {
     "name": "stdout",
     "output_type": "stream",
     "text": [
      "\n",
      "Várzea Paulista\n"
     ]
    },
    {
     "data": {
      "application/vnd.jupyter.widget-view+json": {
       "model_id": "bec1e530e9514ba0b8e3fe1d9ac67c1a",
       "version_major": 2,
       "version_minor": 0
      },
      "text/plain": [
       "HBox(children=(FloatProgress(value=0.0, description='Executing', max=104.0, style=ProgressStyle(description_wi…"
      ]
     },
     "metadata": {},
     "output_type": "display_data"
    },
    {
     "name": "stdout",
     "output_type": "stream",
     "text": [
      "\n",
      "Americana\n"
     ]
    },
    {
     "data": {
      "application/vnd.jupyter.widget-view+json": {
       "model_id": "e33a8147613a410e85f8e5b5e777c479",
       "version_major": 2,
       "version_minor": 0
      },
      "text/plain": [
       "HBox(children=(FloatProgress(value=0.0, description='Executing', max=104.0, style=ProgressStyle(description_wi…"
      ]
     },
     "metadata": {},
     "output_type": "display_data"
    },
    {
     "name": "stdout",
     "output_type": "stream",
     "text": [
      "\n",
      "Analândia\n"
     ]
    },
    {
     "data": {
      "application/vnd.jupyter.widget-view+json": {
       "model_id": "ac23ed758df8484e89acdb98acb7d298",
       "version_major": 2,
       "version_minor": 0
      },
      "text/plain": [
       "HBox(children=(FloatProgress(value=0.0, description='Executing', max=104.0, style=ProgressStyle(description_wi…"
      ]
     },
     "metadata": {},
     "output_type": "display_data"
    },
    {
     "name": "stdout",
     "output_type": "stream",
     "text": [
      "\n",
      "Capivari\n"
     ]
    },
    {
     "data": {
      "application/vnd.jupyter.widget-view+json": {
       "model_id": "295b3f8cc1e140eea0b1bb995b5eaa98",
       "version_major": 2,
       "version_minor": 0
      },
      "text/plain": [
       "HBox(children=(FloatProgress(value=0.0, description='Executing', max=104.0, style=ProgressStyle(description_wi…"
      ]
     },
     "metadata": {},
     "output_type": "display_data"
    },
    {
     "name": "stdout",
     "output_type": "stream",
     "text": [
      "\n",
      "Charqueada\n"
     ]
    },
    {
     "data": {
      "application/vnd.jupyter.widget-view+json": {
       "model_id": "0802456b793048efb6939df3077d7b71",
       "version_major": 2,
       "version_minor": 0
      },
      "text/plain": [
       "HBox(children=(FloatProgress(value=0.0, description='Executing', max=104.0, style=ProgressStyle(description_wi…"
      ]
     },
     "metadata": {},
     "output_type": "display_data"
    },
    {
     "name": "stdout",
     "output_type": "stream",
     "text": [
      "\n",
      "Cordeirópolis\n"
     ]
    },
    {
     "data": {
      "application/vnd.jupyter.widget-view+json": {
       "model_id": "8c67d99d0dbb42e4a88c209be9b3d0e5",
       "version_major": 2,
       "version_minor": 0
      },
      "text/plain": [
       "HBox(children=(FloatProgress(value=0.0, description='Executing', max=104.0, style=ProgressStyle(description_wi…"
      ]
     },
     "metadata": {},
     "output_type": "display_data"
    },
    {
     "name": "stdout",
     "output_type": "stream",
     "text": [
      "\n",
      "Corumbataí\n"
     ]
    },
    {
     "data": {
      "application/vnd.jupyter.widget-view+json": {
       "model_id": "773b79130aa042d58ff70085180aa8b8",
       "version_major": 2,
       "version_minor": 0
      },
      "text/plain": [
       "HBox(children=(FloatProgress(value=0.0, description='Executing', max=104.0, style=ProgressStyle(description_wi…"
      ]
     },
     "metadata": {},
     "output_type": "display_data"
    },
    {
     "name": "stdout",
     "output_type": "stream",
     "text": [
      "\n",
      "Ipeúna\n"
     ]
    },
    {
     "data": {
      "application/vnd.jupyter.widget-view+json": {
       "model_id": "10638c7659d14768b7c901763036dab4",
       "version_major": 2,
       "version_minor": 0
      },
      "text/plain": [
       "HBox(children=(FloatProgress(value=0.0, description='Executing', max=104.0, style=ProgressStyle(description_wi…"
      ]
     },
     "metadata": {},
     "output_type": "display_data"
    },
    {
     "name": "stdout",
     "output_type": "stream",
     "text": [
      "\n",
      "Iracemápolis\n"
     ]
    },
    {
     "data": {
      "application/vnd.jupyter.widget-view+json": {
       "model_id": "d491f9a31c254ecf9c4a17d8a310de6a",
       "version_major": 2,
       "version_minor": 0
      },
      "text/plain": [
       "HBox(children=(FloatProgress(value=0.0, description='Executing', max=104.0, style=ProgressStyle(description_wi…"
      ]
     },
     "metadata": {},
     "output_type": "display_data"
    },
    {
     "name": "stdout",
     "output_type": "stream",
     "text": [
      "\n",
      "Itirapina\n"
     ]
    },
    {
     "data": {
      "application/vnd.jupyter.widget-view+json": {
       "model_id": "4d2437e769cf4d77ba61b247574fb409",
       "version_major": 2,
       "version_minor": 0
      },
      "text/plain": [
       "HBox(children=(FloatProgress(value=0.0, description='Executing', max=104.0, style=ProgressStyle(description_wi…"
      ]
     },
     "metadata": {},
     "output_type": "display_data"
    },
    {
     "name": "stdout",
     "output_type": "stream",
     "text": [
      "\n",
      "Limeira\n"
     ]
    },
    {
     "data": {
      "application/vnd.jupyter.widget-view+json": {
       "model_id": "8af370b235454eeb8b50544837a3ff83",
       "version_major": 2,
       "version_minor": 0
      },
      "text/plain": [
       "HBox(children=(FloatProgress(value=0.0, description='Executing', max=104.0, style=ProgressStyle(description_wi…"
      ]
     },
     "metadata": {},
     "output_type": "display_data"
    },
    {
     "name": "stdout",
     "output_type": "stream",
     "text": [
      "\n",
      "Mombuca\n"
     ]
    },
    {
     "data": {
      "application/vnd.jupyter.widget-view+json": {
       "model_id": "524a1375e24a40de898932769f1ffe41",
       "version_major": 2,
       "version_minor": 0
      },
      "text/plain": [
       "HBox(children=(FloatProgress(value=0.0, description='Executing', max=104.0, style=ProgressStyle(description_wi…"
      ]
     },
     "metadata": {},
     "output_type": "display_data"
    },
    {
     "name": "stdout",
     "output_type": "stream",
     "text": [
      "\n",
      "Piracicaba\n"
     ]
    },
    {
     "data": {
      "application/vnd.jupyter.widget-view+json": {
       "model_id": "c47e69c6484544688c66240a75415ae1",
       "version_major": 2,
       "version_minor": 0
      },
      "text/plain": [
       "HBox(children=(FloatProgress(value=0.0, description='Executing', max=104.0, style=ProgressStyle(description_wi…"
      ]
     },
     "metadata": {},
     "output_type": "display_data"
    },
    {
     "name": "stdout",
     "output_type": "stream",
     "text": [
      "\n",
      "Rafard\n"
     ]
    },
    {
     "data": {
      "application/vnd.jupyter.widget-view+json": {
       "model_id": "5bfc2576b9b44b95b01fe2fc18c66e7b",
       "version_major": 2,
       "version_minor": 0
      },
      "text/plain": [
       "HBox(children=(FloatProgress(value=0.0, description='Executing', max=104.0, style=ProgressStyle(description_wi…"
      ]
     },
     "metadata": {},
     "output_type": "display_data"
    },
    {
     "name": "stdout",
     "output_type": "stream",
     "text": [
      "\n",
      "Rio Claro\n"
     ]
    },
    {
     "data": {
      "application/vnd.jupyter.widget-view+json": {
       "model_id": "2538e58985524208bb582bf8599b04b7",
       "version_major": 2,
       "version_minor": 0
      },
      "text/plain": [
       "HBox(children=(FloatProgress(value=0.0, description='Executing', max=104.0, style=ProgressStyle(description_wi…"
      ]
     },
     "metadata": {},
     "output_type": "display_data"
    },
    {
     "name": "stdout",
     "output_type": "stream",
     "text": [
      "\n",
      "Rio das Pedras\n"
     ]
    },
    {
     "data": {
      "application/vnd.jupyter.widget-view+json": {
       "model_id": "4ebd4ff192cd494e8e074c8da20654fd",
       "version_major": 2,
       "version_minor": 0
      },
      "text/plain": [
       "HBox(children=(FloatProgress(value=0.0, description='Executing', max=104.0, style=ProgressStyle(description_wi…"
      ]
     },
     "metadata": {},
     "output_type": "display_data"
    },
    {
     "name": "stdout",
     "output_type": "stream",
     "text": [
      "\n",
      "Saltinho\n"
     ]
    },
    {
     "data": {
      "application/vnd.jupyter.widget-view+json": {
       "model_id": "e4d30a548ef84492b36c063ca6f735ce",
       "version_major": 2,
       "version_minor": 0
      },
      "text/plain": [
       "HBox(children=(FloatProgress(value=0.0, description='Executing', max=104.0, style=ProgressStyle(description_wi…"
      ]
     },
     "metadata": {},
     "output_type": "display_data"
    },
    {
     "name": "stdout",
     "output_type": "stream",
     "text": [
      "\n",
      "Santa Bárbara D'Oeste\n"
     ]
    },
    {
     "data": {
      "application/vnd.jupyter.widget-view+json": {
       "model_id": "ffb7ca2271974afb8791c9a7c8f86425",
       "version_major": 2,
       "version_minor": 0
      },
      "text/plain": [
       "HBox(children=(FloatProgress(value=0.0, description='Executing', max=104.0, style=ProgressStyle(description_wi…"
      ]
     },
     "metadata": {},
     "output_type": "display_data"
    },
    {
     "name": "stdout",
     "output_type": "stream",
     "text": [
      "\n",
      "Santa Gertrudes\n"
     ]
    },
    {
     "data": {
      "application/vnd.jupyter.widget-view+json": {
       "model_id": "30fbd681994d4b19bcff9b7891c77eb2",
       "version_major": 2,
       "version_minor": 0
      },
      "text/plain": [
       "HBox(children=(FloatProgress(value=0.0, description='Executing', max=104.0, style=ProgressStyle(description_wi…"
      ]
     },
     "metadata": {},
     "output_type": "display_data"
    },
    {
     "name": "stdout",
     "output_type": "stream",
     "text": [
      "\n",
      "Santa Maria da Serra\n"
     ]
    },
    {
     "data": {
      "application/vnd.jupyter.widget-view+json": {
       "model_id": "9224d78f27af454aa9b244176ef6b397",
       "version_major": 2,
       "version_minor": 0
      },
      "text/plain": [
       "HBox(children=(FloatProgress(value=0.0, description='Executing', max=104.0, style=ProgressStyle(description_wi…"
      ]
     },
     "metadata": {},
     "output_type": "display_data"
    },
    {
     "name": "stdout",
     "output_type": "stream",
     "text": [
      "\n",
      "São Pedro\n"
     ]
    },
    {
     "data": {
      "application/vnd.jupyter.widget-view+json": {
       "model_id": "5b7c268713ea42a38c8bf738f14fb71d",
       "version_major": 2,
       "version_minor": 0
      },
      "text/plain": [
       "HBox(children=(FloatProgress(value=0.0, description='Executing', max=104.0, style=ProgressStyle(description_wi…"
      ]
     },
     "metadata": {},
     "output_type": "display_data"
    },
    {
     "name": "stdout",
     "output_type": "stream",
     "text": [
      "\n",
      "Águas de São Pedro\n"
     ]
    },
    {
     "data": {
      "application/vnd.jupyter.widget-view+json": {
       "model_id": "88c99efe14684721b287b6e50a10c394",
       "version_major": 2,
       "version_minor": 0
      },
      "text/plain": [
       "HBox(children=(FloatProgress(value=0.0, description='Executing', max=104.0, style=ProgressStyle(description_wi…"
      ]
     },
     "metadata": {},
     "output_type": "display_data"
    },
    {
     "name": "stdout",
     "output_type": "stream",
     "text": [
      "\n"
     ]
    }
   ],
   "source": [
    "for index, row in df.iterrows():\n",
    "    # Define Variáveis\n",
    "    id_mun = row['ID_Município']\n",
    "    gaema = row['GA']\n",
    "    mun = row['Município']\n",
    "    mun_clean = row['Município'].replace(' ','').replace(\"D'\",\"D\")\n",
    "    print(mun)\n",
    "    \n",
    "    # Roda para cada município\n",
    "    pm.execute_notebook('analysis_Município.ipynb',\n",
    "                        os.path.join('analysis_Município_out_lixo.ipynb'),\n",
    "                        parameters={'ID_Município': id_mun,\n",
    "                                    'gaema'       : gaema\n",
    "                                   },\n",
    "                        kernel_name='python3',\n",
    "                        nest_asyncio=True\n",
    "                       )"
   ]
  },
  {
   "cell_type": "markdown",
   "metadata": {},
   "source": [
    "# Nome do *kernel*\n",
    "\n",
    "O nome do *kernel* é um dos parâmetros do *papermill*. Em um primeiro momento, achei que o nome seria o mesmo do *enviroment* que criei no **Conda**, que é obtido com o parâmetro abaixo. Contudo, não deu certo usando o nome do *enviroment*.\n",
    "\n",
    "O jeito que descobri o nome do *kernel* foi através do comando ```jupyter kernelspec list```, aplicado diretamente no terminal, com o *enviroment* do **Conda** ativado."
   ]
  },
  {
   "cell_type": "code",
   "execution_count": null,
   "metadata": {},
   "outputs": [],
   "source": [
    "%%javascript\n",
    "var kernel = Jupyter.notebook.kernel\n",
    "kernel.execute('kernel_name = ' + '\"' + kernel.name + '\"')"
   ]
  },
  {
   "cell_type": "code",
   "execution_count": null,
   "metadata": {},
   "outputs": [],
   "source": [
    "kernel_name"
   ]
  }
 ],
 "metadata": {
  "kernelspec": {
   "display_name": "Python [conda env:pablocarreira-py38] *",
   "language": "python",
   "name": "conda-env-pablocarreira-py38-py"
  },
  "language_info": {
   "codemirror_mode": {
    "name": "ipython",
    "version": 3
   },
   "file_extension": ".py",
   "mimetype": "text/x-python",
   "name": "python",
   "nbconvert_exporter": "python",
   "pygments_lexer": "ipython3",
   "version": "3.8.2"
  },
  "toc": {
   "base_numbering": 1,
   "nav_menu": {},
   "number_sections": true,
   "sideBar": true,
   "skip_h1_title": false,
   "title_cell": "Table of Contents",
   "title_sidebar": "Contents",
   "toc_cell": false,
   "toc_position": {
    "height": "calc(100% - 180px)",
    "left": "10px",
    "top": "150px",
    "width": "231.4px"
   },
   "toc_section_display": true,
   "toc_window_display": true
  }
 },
 "nbformat": 4,
 "nbformat_minor": 4
}
